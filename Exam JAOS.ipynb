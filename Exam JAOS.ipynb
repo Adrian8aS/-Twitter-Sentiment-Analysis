{
 "cells": [
  {
   "cell_type": "code",
   "execution_count": 1,
   "id": "3587b1d3",
   "metadata": {},
   "outputs": [],
   "source": [
    "import matplotlib.pyplot as plt\n",
    "import pandas as pd\n",
    "import numpy as np\n",
    "\n",
    "from joblib import dump, load"
   ]
  },
  {
   "cell_type": "markdown",
   "id": "fa15484f",
   "metadata": {},
   "source": [
    "# Get data"
   ]
  },
  {
   "cell_type": "code",
   "execution_count": 2,
   "id": "8e5b07b1",
   "metadata": {},
   "outputs": [
    {
     "data": {
      "text/html": [
       "<div>\n",
       "<style scoped>\n",
       "    .dataframe tbody tr th:only-of-type {\n",
       "        vertical-align: middle;\n",
       "    }\n",
       "\n",
       "    .dataframe tbody tr th {\n",
       "        vertical-align: top;\n",
       "    }\n",
       "\n",
       "    .dataframe thead th {\n",
       "        text-align: right;\n",
       "    }\n",
       "</style>\n",
       "<table border=\"1\" class=\"dataframe\">\n",
       "  <thead>\n",
       "    <tr style=\"text-align: right;\">\n",
       "      <th></th>\n",
       "      <th>#</th>\n",
       "      <th>refers to</th>\n",
       "      <th>sentiment</th>\n",
       "      <th>text</th>\n",
       "    </tr>\n",
       "  </thead>\n",
       "  <tbody>\n",
       "    <tr>\n",
       "      <th>0</th>\n",
       "      <td>2401</td>\n",
       "      <td>Borderlands</td>\n",
       "      <td>Positive</td>\n",
       "      <td>im getting on borderlands and i will murder yo...</td>\n",
       "    </tr>\n",
       "    <tr>\n",
       "      <th>1</th>\n",
       "      <td>2401</td>\n",
       "      <td>Borderlands</td>\n",
       "      <td>Positive</td>\n",
       "      <td>I am coming to the borders and I will kill you...</td>\n",
       "    </tr>\n",
       "    <tr>\n",
       "      <th>2</th>\n",
       "      <td>2401</td>\n",
       "      <td>Borderlands</td>\n",
       "      <td>Positive</td>\n",
       "      <td>im getting on borderlands and i will kill you ...</td>\n",
       "    </tr>\n",
       "    <tr>\n",
       "      <th>3</th>\n",
       "      <td>2401</td>\n",
       "      <td>Borderlands</td>\n",
       "      <td>Positive</td>\n",
       "      <td>im coming on borderlands and i will murder you...</td>\n",
       "    </tr>\n",
       "    <tr>\n",
       "      <th>4</th>\n",
       "      <td>2401</td>\n",
       "      <td>Borderlands</td>\n",
       "      <td>Positive</td>\n",
       "      <td>im getting on borderlands 2 and i will murder ...</td>\n",
       "    </tr>\n",
       "  </tbody>\n",
       "</table>\n",
       "</div>"
      ],
      "text/plain": [
       "      #    refers to sentiment  \\\n",
       "0  2401  Borderlands  Positive   \n",
       "1  2401  Borderlands  Positive   \n",
       "2  2401  Borderlands  Positive   \n",
       "3  2401  Borderlands  Positive   \n",
       "4  2401  Borderlands  Positive   \n",
       "\n",
       "                                                text  \n",
       "0  im getting on borderlands and i will murder yo...  \n",
       "1  I am coming to the borders and I will kill you...  \n",
       "2  im getting on borderlands and i will kill you ...  \n",
       "3  im coming on borderlands and i will murder you...  \n",
       "4  im getting on borderlands 2 and i will murder ...  "
      ]
     },
     "execution_count": 2,
     "metadata": {},
     "output_type": "execute_result"
    }
   ],
   "source": [
    "df_train = pd.read_csv('twitter_training.csv',header=None)\n",
    "df_train.columns = ['#', 'refers to', 'sentiment', 'text']\n",
    "df_train.head()"
   ]
  },
  {
   "cell_type": "code",
   "execution_count": 3,
   "id": "052e20eb",
   "metadata": {
    "scrolled": true
   },
   "outputs": [
    {
     "data": {
      "text/html": [
       "<div>\n",
       "<style scoped>\n",
       "    .dataframe tbody tr th:only-of-type {\n",
       "        vertical-align: middle;\n",
       "    }\n",
       "\n",
       "    .dataframe tbody tr th {\n",
       "        vertical-align: top;\n",
       "    }\n",
       "\n",
       "    .dataframe thead th {\n",
       "        text-align: right;\n",
       "    }\n",
       "</style>\n",
       "<table border=\"1\" class=\"dataframe\">\n",
       "  <thead>\n",
       "    <tr style=\"text-align: right;\">\n",
       "      <th></th>\n",
       "      <th>#</th>\n",
       "      <th>refers to</th>\n",
       "      <th>sentiment</th>\n",
       "      <th>text</th>\n",
       "    </tr>\n",
       "  </thead>\n",
       "  <tbody>\n",
       "    <tr>\n",
       "      <th>0</th>\n",
       "      <td>3364</td>\n",
       "      <td>Facebook</td>\n",
       "      <td>Irrelevant</td>\n",
       "      <td>I mentioned on Facebook that I was struggling ...</td>\n",
       "    </tr>\n",
       "    <tr>\n",
       "      <th>1</th>\n",
       "      <td>352</td>\n",
       "      <td>Amazon</td>\n",
       "      <td>Neutral</td>\n",
       "      <td>BBC News - Amazon boss Jeff Bezos rejects clai...</td>\n",
       "    </tr>\n",
       "    <tr>\n",
       "      <th>2</th>\n",
       "      <td>8312</td>\n",
       "      <td>Microsoft</td>\n",
       "      <td>Negative</td>\n",
       "      <td>@Microsoft Why do I pay for WORD when it funct...</td>\n",
       "    </tr>\n",
       "    <tr>\n",
       "      <th>3</th>\n",
       "      <td>4371</td>\n",
       "      <td>CS-GO</td>\n",
       "      <td>Negative</td>\n",
       "      <td>CSGO matchmaking is so full of closet hacking,...</td>\n",
       "    </tr>\n",
       "    <tr>\n",
       "      <th>4</th>\n",
       "      <td>4433</td>\n",
       "      <td>Google</td>\n",
       "      <td>Neutral</td>\n",
       "      <td>Now the President is slapping Americans in the...</td>\n",
       "    </tr>\n",
       "  </tbody>\n",
       "</table>\n",
       "</div>"
      ],
      "text/plain": [
       "      #  refers to   sentiment  \\\n",
       "0  3364   Facebook  Irrelevant   \n",
       "1   352     Amazon     Neutral   \n",
       "2  8312  Microsoft    Negative   \n",
       "3  4371      CS-GO    Negative   \n",
       "4  4433     Google     Neutral   \n",
       "\n",
       "                                                text  \n",
       "0  I mentioned on Facebook that I was struggling ...  \n",
       "1  BBC News - Amazon boss Jeff Bezos rejects clai...  \n",
       "2  @Microsoft Why do I pay for WORD when it funct...  \n",
       "3  CSGO matchmaking is so full of closet hacking,...  \n",
       "4  Now the President is slapping Americans in the...  "
      ]
     },
     "execution_count": 3,
     "metadata": {},
     "output_type": "execute_result"
    }
   ],
   "source": [
    "df_test = pd.read_csv('twitter_validation.csv',header=None)\n",
    "df_test.columns = ['#', 'refers to', 'sentiment', 'text']\n",
    "df_test.head()"
   ]
  },
  {
   "cell_type": "markdown",
   "id": "1c7f14af",
   "metadata": {},
   "source": [
    "# Feature engineering"
   ]
  },
  {
   "cell_type": "code",
   "execution_count": 4,
   "id": "48d12fc1",
   "metadata": {},
   "outputs": [
    {
     "data": {
      "text/plain": [
       "[(1000, 4), (74682, 4)]"
      ]
     },
     "execution_count": 4,
     "metadata": {},
     "output_type": "execute_result"
    }
   ],
   "source": [
    "[df_test.shape, df_train.shape]"
   ]
  },
  {
   "cell_type": "code",
   "execution_count": 5,
   "id": "b1051526",
   "metadata": {},
   "outputs": [
    {
     "name": "stdout",
     "output_type": "stream",
     "text": [
      "#            0\n",
      "refers to    0\n",
      "sentiment    0\n",
      "text         0\n",
      "dtype: int64 \n",
      "\n",
      " #              0\n",
      "refers to      0\n",
      "sentiment      0\n",
      "text         686\n",
      "dtype: int64\n"
     ]
    }
   ],
   "source": [
    "print(df_test.isnull().sum(),'\\n\\n',df_train.isnull().sum())"
   ]
  },
  {
   "cell_type": "code",
   "execution_count": 6,
   "id": "49a53f97",
   "metadata": {},
   "outputs": [],
   "source": [
    "df_train.dropna(inplace=True, axis=0)"
   ]
  },
  {
   "cell_type": "code",
   "execution_count": 7,
   "id": "26cea836",
   "metadata": {},
   "outputs": [],
   "source": [
    "ids_to_remove = [1826, 10454, 32186, 68078]\n",
    "df_train = df_train[~df_train.index.isin(ids_to_remove)]\n",
    "df_train.index = range(len(df_train))"
   ]
  },
  {
   "cell_type": "code",
   "execution_count": 8,
   "id": "6695d66d",
   "metadata": {},
   "outputs": [],
   "source": [
    "from sklearn import preprocessing\n",
    "le = preprocessing.LabelEncoder()\n",
    "\n",
    "X_train = df_train['text']\n",
    "y_train = le.fit_transform(df_train['sentiment'])\n",
    "\n",
    "X_test = df_test['text']\n",
    "y_test = le.fit_transform(df_test['sentiment'])"
   ]
  },
  {
   "cell_type": "code",
   "execution_count": 9,
   "id": "31f24156",
   "metadata": {},
   "outputs": [
    {
     "name": "stdout",
     "output_type": "stream",
     "text": [
      "[0 1 2 3]\n",
      "['Irrelevant' 'Negative' 'Neutral' 'Positive']\n"
     ]
    }
   ],
   "source": [
    "print(np.unique(y_test))\n",
    "print(le.inverse_transform(np.unique(y_test)))"
   ]
  },
  {
   "cell_type": "code",
   "execution_count": 10,
   "id": "2a69ad78",
   "metadata": {},
   "outputs": [
    {
     "name": "stderr",
     "output_type": "stream",
     "text": [
      "[nltk_data] Downloading package stopwords to\n",
      "[nltk_data]     C:\\Users\\ppadr\\AppData\\Roaming\\nltk_data...\n",
      "[nltk_data]   Package stopwords is already up-to-date!\n"
     ]
    },
    {
     "data": {
      "text/plain": [
       "179"
      ]
     },
     "execution_count": 10,
     "metadata": {},
     "output_type": "execute_result"
    }
   ],
   "source": [
    "import nltk\n",
    "from nltk.corpus import stopwords\n",
    "nltk.download('stopwords')\n",
    "stopwords = set(stopwords.words('english'))\n",
    "len(stopwords)"
   ]
  },
  {
   "cell_type": "code",
   "execution_count": 54,
   "id": "3ddf0d17",
   "metadata": {},
   "outputs": [
    {
     "data": {
      "text/plain": [
       "['stopwords.data']"
      ]
     },
     "execution_count": 54,
     "metadata": {},
     "output_type": "execute_result"
    }
   ],
   "source": [
    "dump(stopwords, 'stopwords.data') "
   ]
  },
  {
   "cell_type": "code",
   "execution_count": 11,
   "id": "513789bb",
   "metadata": {},
   "outputs": [],
   "source": [
    "import spacy\n",
    "nlp = spacy.load(\"en_core_web_sm\")\n",
    "\n",
    "from sklearn.feature_extraction.text import TfidfVectorizer\n",
    "from tqdm import tqdm\n",
    "import regex as re"
   ]
  },
  {
   "cell_type": "code",
   "execution_count": 55,
   "id": "a9d0266c",
   "metadata": {},
   "outputs": [
    {
     "data": {
      "text/plain": [
       "['stopwords.data']"
      ]
     },
     "execution_count": 55,
     "metadata": {},
     "output_type": "execute_result"
    }
   ],
   "source": [
    "dump(nlp, 'nlp.path') \n",
    "dump(stopwords, 'stopwords.data') "
   ]
  },
  {
   "cell_type": "code",
   "execution_count": 12,
   "id": "f0502368",
   "metadata": {},
   "outputs": [],
   "source": [
    "class Preprocessor:\n",
    "    def __init__(self, stopwords=stopwords):\n",
    "        self.vectorizer = TfidfVectorizer(lowercase=False, max_features=8000,\n",
    "                                         min_df=10, ngram_range=(1, 3),\n",
    "                                         tokenizer=None)\n",
    "        self.stopwords = stopwords\n",
    "        self.vectorizer_fitted = False\n",
    "        \n",
    "    def remove_urls(self, texts):\n",
    "        print('Removing URLs...')\n",
    "        pattern = re.compile('(\\w+\\.com ?/ ?.+)|(http\\S+)')\n",
    "        return [re.sub(pattern, '', text) for text in texts]\n",
    "    \n",
    "    def remove_double_space(self, texts):\n",
    "        print('Removing double space...')\n",
    "        pattern = re.compile(' +')\n",
    "        return [re.sub(pattern, ' ', text) for text in texts]\n",
    "        \n",
    "    def remove_punctuation(self, texts):\n",
    "        print('Removing Punctuation...')\n",
    "        pattern = re.compile('[^a-z ]')\n",
    "        return [re.sub(pattern, ' ', text) for text in texts]\n",
    "    \n",
    "    def remove_stopwords(self, texts):\n",
    "        print('Removing stopwords...')\n",
    "        return [[w for w in text.split(' ') if w not in self.stopwords] for text in tqdm(texts)]\n",
    "    \n",
    "    def remove_numbers(self, texts):\n",
    "        print('Removing numbers...')\n",
    "        return [' '.join([w for w in text if not w.isdigit()]) for text in tqdm(texts)]\n",
    "    \n",
    "    def remove_emojis(self, texts):\n",
    "        print('Removing emojis...')\n",
    "        pattern = re.compile(\"[\"\n",
    "                u\"\\U0001F600-\\U0001F64F\"  # emoticons\n",
    "                u\"\\U0001F300-\\U0001F5FF\"  # symbols & pictographs\n",
    "                u\"\\U0001F680-\\U0001F6FF\"  # transport & map symbols\n",
    "                u\"\\U0001F1E0-\\U0001F1FF\"  # flags (iOS)\n",
    "                                   \"]+\", flags=re.UNICODE)\n",
    "        return [re.sub(pattern, r'', text) for text in texts]\n",
    "    \n",
    "    def lemmatize(self, texts):\n",
    "        print('Lemmatizing...')\n",
    "        lemmatized_texts = []\n",
    "        for text in tqdm(texts):\n",
    "            doc = nlp(text)\n",
    "            lemmatized_texts.append(' '.join([token.lemma_ for token in doc]))\n",
    "                                    \n",
    "        return lemmatized_texts\n",
    "        \n",
    "    def transform(self, X, y=None, mode='train'):\n",
    "        X = X.copy()\n",
    "        \n",
    "        print('Removing Nans...')\n",
    "        X = X[~X.isnull()]                          \n",
    "        X = X[~X.duplicated()]                      \n",
    "        \n",
    "        if mode == 'train':\n",
    "            self.train_idx = X.index\n",
    "        else:\n",
    "            self.test_idx = X.index\n",
    "            \n",
    "        print('Counting capitalized...')\n",
    "        capitalized = [np.sum([t.isupper() for t in text.split()]) \n",
    "                           for text in np.array(X.values)]  \n",
    "        \n",
    "        print('Lowering...')\n",
    "        X = [text.lower() for text in X]   \n",
    "        \n",
    "        X = self.remove_urls(X)                      \n",
    "        X = self.remove_punctuation(X)               \n",
    "        X = self.remove_double_space(X)             \n",
    "        X = self.remove_emojis(X)                   \n",
    "        X = self.remove_stopwords(X)                 \n",
    "        X = self.remove_numbers(X)                                        \n",
    "        X = self.lemmatize(X)                        \n",
    "        \n",
    "        if not self.vectorizer_fitted:\n",
    "            self.vectorizer_fitted = True\n",
    "            print('Fitting vectorizer...')\n",
    "            self.vectorizer.fit(X)\n",
    "\n",
    "        print('Vectorizing...')\n",
    "        X = self.vectorizer.transform(X)       \n",
    "        \n",
    "        return X"
   ]
  },
  {
   "cell_type": "code",
   "execution_count": 13,
   "id": "d087627d",
   "metadata": {},
   "outputs": [],
   "source": [
    "pr = Preprocessor()"
   ]
  },
  {
   "cell_type": "code",
   "execution_count": 14,
   "id": "5fc44d76",
   "metadata": {},
   "outputs": [
    {
     "name": "stdout",
     "output_type": "stream",
     "text": [
      "Removing Nans...\n",
      "Counting capitalized...\n",
      "Lowering...\n",
      "Removing URLs...\n",
      "Removing Punctuation...\n",
      "Removing double space...\n",
      "Removing emojis...\n",
      "Removing stopwords...\n"
     ]
    },
    {
     "name": "stderr",
     "output_type": "stream",
     "text": [
      "100%|█████████████████████████████████████████████████████████████████████████| 69488/69488 [00:01<00:00, 37269.60it/s]\n"
     ]
    },
    {
     "name": "stdout",
     "output_type": "stream",
     "text": [
      "Removing numbers...\n"
     ]
    },
    {
     "name": "stderr",
     "output_type": "stream",
     "text": [
      "100%|████████████████████████████████████████████████████████████████████████| 69488/69488 [00:00<00:00, 142066.48it/s]\n"
     ]
    },
    {
     "name": "stdout",
     "output_type": "stream",
     "text": [
      "Lemmatizing...\n"
     ]
    },
    {
     "name": "stderr",
     "output_type": "stream",
     "text": [
      "100%|████████████████████████████████████████████████████████████████████████████| 69488/69488 [24:18<00:00, 47.65it/s]\n"
     ]
    },
    {
     "name": "stdout",
     "output_type": "stream",
     "text": [
      "Fitting vectorizer...\n",
      "Vectorizing...\n"
     ]
    }
   ],
   "source": [
    "data_train = pr.transform(X_train)\n",
    "data_train = pd.DataFrame.sparse.from_spmatrix(data_train, columns=pr.vectorizer.get_feature_names_out())\n",
    "y_train = pd.DataFrame(y_train)\n",
    "y_train = y_train[y_train.index.isin(pr.train_idx)]\n",
    "y_train.index = data_train.index"
   ]
  },
  {
   "cell_type": "code",
   "execution_count": 15,
   "id": "f405e336",
   "metadata": {},
   "outputs": [
    {
     "data": {
      "text/plain": [
       "[(69488, 8000), (69488,)]"
      ]
     },
     "execution_count": 15,
     "metadata": {},
     "output_type": "execute_result"
    }
   ],
   "source": [
    "X_train = data_train\n",
    "[data_train.shape, y_train.values.ravel().shape]"
   ]
  },
  {
   "cell_type": "code",
   "execution_count": 16,
   "id": "a69cf847",
   "metadata": {},
   "outputs": [
    {
     "name": "stdout",
     "output_type": "stream",
     "text": [
      "Removing Nans...\n",
      "Counting capitalized...\n",
      "Lowering...\n",
      "Removing URLs...\n",
      "Removing Punctuation...\n",
      "Removing double space...\n",
      "Removing emojis...\n",
      "Removing stopwords...\n"
     ]
    },
    {
     "name": "stderr",
     "output_type": "stream",
     "text": [
      "100%|█████████████████████████████████████████████████████████████████████████████| 999/999 [00:00<00:00, 49924.46it/s]\n"
     ]
    },
    {
     "name": "stdout",
     "output_type": "stream",
     "text": [
      "Removing numbers...\n"
     ]
    },
    {
     "name": "stderr",
     "output_type": "stream",
     "text": [
      "100%|████████████████████████████████████████████████████████████████████████████| 999/999 [00:00<00:00, 166399.65it/s]\n"
     ]
    },
    {
     "name": "stdout",
     "output_type": "stream",
     "text": [
      "Lemmatizing...\n"
     ]
    },
    {
     "name": "stderr",
     "output_type": "stream",
     "text": [
      "100%|████████████████████████████████████████████████████████████████████████████████| 999/999 [00:19<00:00, 50.38it/s]\n"
     ]
    },
    {
     "name": "stdout",
     "output_type": "stream",
     "text": [
      "Vectorizing...\n"
     ]
    }
   ],
   "source": [
    "data_test = pr.transform(X_test, mode='test')\n",
    "data_test = pd.DataFrame.sparse.from_spmatrix(data_test, columns=pr.vectorizer.get_feature_names_out())\n",
    "y_test = pd.DataFrame(y_test)\n",
    "y_test = y_test[y_test.index.isin(pr.test_idx)]\n",
    "y_test.index = data_test.index"
   ]
  },
  {
   "cell_type": "code",
   "execution_count": 17,
   "id": "5c21db52",
   "metadata": {},
   "outputs": [
    {
     "data": {
      "text/plain": [
       "[(999, 8000), (999,)]"
      ]
     },
     "execution_count": 17,
     "metadata": {},
     "output_type": "execute_result"
    }
   ],
   "source": [
    "X_test = data_test\n",
    "[X_test.shape, y_test.values.ravel().shape]"
   ]
  },
  {
   "cell_type": "code",
   "execution_count": 39,
   "id": "c8a0c3fa",
   "metadata": {},
   "outputs": [
    {
     "data": {
      "text/plain": [
       "['vectorizer.model']"
      ]
     },
     "execution_count": 39,
     "metadata": {},
     "output_type": "execute_result"
    }
   ],
   "source": [
    "dump(pr.vectorizer, 'vectorizer.model') "
   ]
  },
  {
   "cell_type": "markdown",
   "id": "dab37b12",
   "metadata": {},
   "source": [
    "# Classification "
   ]
  },
  {
   "cell_type": "code",
   "execution_count": 20,
   "id": "9038a17f",
   "metadata": {},
   "outputs": [
    {
     "data": {
      "text/plain": [
       "['log_reg.model']"
      ]
     },
     "execution_count": 20,
     "metadata": {},
     "output_type": "execute_result"
    }
   ],
   "source": [
    "from sklearn.linear_model import LogisticRegression\n",
    "\n",
    "log_reg = LogisticRegression(random_state=42, max_iter=1000)\n",
    "log_reg.fit(X_train, y_train.values.ravel())\n",
    "\n",
    "dump(log_reg, 'log_reg.model') "
   ]
  },
  {
   "cell_type": "code",
   "execution_count": 21,
   "id": "2c617f3f",
   "metadata": {},
   "outputs": [],
   "source": [
    "clf = load('log_reg.model') \n",
    "y_pred  = clf.predict(X_test)"
   ]
  },
  {
   "cell_type": "code",
   "execution_count": 22,
   "id": "c22eaf5b",
   "metadata": {},
   "outputs": [
    {
     "name": "stdout",
     "output_type": "stream",
     "text": [
      "              precision    recall  f1-score   support\n",
      "\n",
      "  Irrelevant       0.90      0.78      0.84       172\n",
      "    Negative       0.81      0.90      0.85       266\n",
      "     Neutral       0.88      0.79      0.83       285\n",
      "    Positive       0.82      0.89      0.85       276\n",
      "\n",
      "    accuracy                           0.84       999\n",
      "   macro avg       0.85      0.84      0.84       999\n",
      "weighted avg       0.85      0.84      0.84       999\n",
      "\n"
     ]
    }
   ],
   "source": [
    "from sklearn.metrics import classification_report\n",
    "\n",
    "print(classification_report(y_test, y_pred, target_names = le.inverse_transform(np.unique(y_test))))"
   ]
  },
  {
   "cell_type": "code",
   "execution_count": 23,
   "id": "e2ede9e4",
   "metadata": {},
   "outputs": [
    {
     "data": {
      "text/plain": [
       "['tree.model']"
      ]
     },
     "execution_count": 23,
     "metadata": {},
     "output_type": "execute_result"
    }
   ],
   "source": [
    "from sklearn.tree import DecisionTreeClassifier\n",
    "\n",
    "## Criterion: entropy or gini\n",
    "classifier = DecisionTreeClassifier(max_depth=600, criterion='gini', random_state = 42) \n",
    "classifier.fit(X_train,y_train)\n",
    "\n",
    "dump(classifier, 'tree.model') "
   ]
  },
  {
   "cell_type": "code",
   "execution_count": 24,
   "id": "2685ca91",
   "metadata": {},
   "outputs": [],
   "source": [
    "clf = load('tree.model') \n",
    "y_pred  = clf.predict(X_test)"
   ]
  },
  {
   "cell_type": "code",
   "execution_count": 25,
   "id": "88bd64cc",
   "metadata": {},
   "outputs": [
    {
     "name": "stdout",
     "output_type": "stream",
     "text": [
      "              precision    recall  f1-score   support\n",
      "\n",
      "  Irrelevant       0.93      0.91      0.92       172\n",
      "    Negative       0.90      0.93      0.92       266\n",
      "     Neutral       0.90      0.91      0.90       285\n",
      "    Positive       0.92      0.90      0.91       276\n",
      "\n",
      "    accuracy                           0.91       999\n",
      "   macro avg       0.91      0.91      0.91       999\n",
      "weighted avg       0.91      0.91      0.91       999\n",
      "\n"
     ]
    }
   ],
   "source": [
    "print(classification_report(y_test, y_pred, target_names = le.inverse_transform(np.unique(y_test))))"
   ]
  },
  {
   "cell_type": "code",
   "execution_count": 26,
   "id": "fc13c5d8",
   "metadata": {},
   "outputs": [
    {
     "data": {
      "text/plain": [
       "['forest.model']"
      ]
     },
     "execution_count": 26,
     "metadata": {},
     "output_type": "execute_result"
    }
   ],
   "source": [
    "from sklearn.ensemble import RandomForestClassifier\n",
    "\n",
    "clf = RandomForestClassifier(max_depth=600, random_state=42)\n",
    "clf.fit(X_train, y_train.values.ravel())\n",
    "\n",
    "dump(clf, 'forest.model') "
   ]
  },
  {
   "cell_type": "code",
   "execution_count": 27,
   "id": "a059a509",
   "metadata": {},
   "outputs": [],
   "source": [
    "clf = load('forest.model') \n",
    "y_pred  = clf.predict(X_test)"
   ]
  },
  {
   "cell_type": "code",
   "execution_count": 28,
   "id": "52c2091e",
   "metadata": {},
   "outputs": [
    {
     "name": "stdout",
     "output_type": "stream",
     "text": [
      "              precision    recall  f1-score   support\n",
      "\n",
      "  Irrelevant       0.99      0.92      0.95       172\n",
      "    Negative       0.94      0.96      0.95       266\n",
      "     Neutral       0.96      0.94      0.95       285\n",
      "    Positive       0.92      0.96      0.94       276\n",
      "\n",
      "    accuracy                           0.95       999\n",
      "   macro avg       0.95      0.95      0.95       999\n",
      "weighted avg       0.95      0.95      0.95       999\n",
      "\n"
     ]
    }
   ],
   "source": [
    "print(classification_report(y_test, y_pred, target_names = le.inverse_transform(np.unique(y_test))))"
   ]
  },
  {
   "cell_type": "markdown",
   "id": "bdfafe9c",
   "metadata": {},
   "source": [
    "# All together"
   ]
  },
  {
   "cell_type": "code",
   "execution_count": 29,
   "id": "ca4867f5",
   "metadata": {},
   "outputs": [],
   "source": [
    "log_reg = load('log_reg.model') \n",
    "y_lr  = log_reg.predict(X_test)\n",
    "\n",
    "tree = load('tree.model') \n",
    "y_tree  = tree.predict(X_test)\n",
    "\n",
    "forest = load('forest.model') \n",
    "y_forest  = forest.predict(X_test)"
   ]
  },
  {
   "cell_type": "code",
   "execution_count": 30,
   "id": "2e9afd4a",
   "metadata": {},
   "outputs": [],
   "source": [
    "from statistics import mode\n",
    "\n",
    "y_pred = []\n",
    "\n",
    "for i in range(len(y_test)):\n",
    "    \n",
    "    r = mode([y_lr[i], y_tree[i], y_forest[i]])\n",
    "    \n",
    "    y_pred.append(r)"
   ]
  },
  {
   "cell_type": "code",
   "execution_count": 31,
   "id": "fee1b195",
   "metadata": {},
   "outputs": [
    {
     "name": "stdout",
     "output_type": "stream",
     "text": [
      "              precision    recall  f1-score   support\n",
      "\n",
      "  Irrelevant       0.99      0.93      0.96       172\n",
      "    Negative       0.95      0.95      0.95       266\n",
      "     Neutral       0.96      0.94      0.95       285\n",
      "    Positive       0.91      0.96      0.93       276\n",
      "\n",
      "    accuracy                           0.95       999\n",
      "   macro avg       0.95      0.95      0.95       999\n",
      "weighted avg       0.95      0.95      0.95       999\n",
      "\n"
     ]
    }
   ],
   "source": [
    "print(classification_report(y_test, y_pred, target_names = le.inverse_transform(np.unique(y_test))))"
   ]
  },
  {
   "cell_type": "code",
   "execution_count": 32,
   "id": "e657d668",
   "metadata": {},
   "outputs": [
    {
     "name": "stderr",
     "output_type": "stream",
     "text": [
      "C:\\Users\\ppadr\\anaconda3\\lib\\site-packages\\sklearn\\base.py:450: UserWarning: X does not have valid feature names, but LogisticRegression was fitted with feature names\n",
      "  warnings.warn(\n",
      "C:\\Users\\ppadr\\anaconda3\\lib\\site-packages\\sklearn\\base.py:450: UserWarning: X does not have valid feature names, but DecisionTreeClassifier was fitted with feature names\n",
      "  warnings.warn(\n"
     ]
    },
    {
     "data": {
      "text/plain": [
       "0"
      ]
     },
     "execution_count": 32,
     "metadata": {},
     "output_type": "execute_result"
    }
   ],
   "source": [
    "prueba = data_test[0:1].values\n",
    "\n",
    "x_std = prueba\n",
    "\n",
    "log_reg = load('log_reg.model') \n",
    "y_lr  = log_reg.predict(x_std)\n",
    "\n",
    "tree = load('tree.model') \n",
    "y_tree  = tree.predict(x_std)\n",
    "\n",
    "forest = load('forest.model') \n",
    "y_forest  = forest.predict(X_test)\n",
    "\n",
    "r = [y_lr[0], y_tree[0], y_forest[0]]\n",
    "\n",
    "mode(r)"
   ]
  },
  {
   "cell_type": "code",
   "execution_count": 33,
   "id": "c9918f82",
   "metadata": {},
   "outputs": [
    {
     "data": {
      "text/html": [
       "<div>\n",
       "<style scoped>\n",
       "    .dataframe tbody tr th:only-of-type {\n",
       "        vertical-align: middle;\n",
       "    }\n",
       "\n",
       "    .dataframe tbody tr th {\n",
       "        vertical-align: top;\n",
       "    }\n",
       "\n",
       "    .dataframe thead th {\n",
       "        text-align: right;\n",
       "    }\n",
       "</style>\n",
       "<table border=\"1\" class=\"dataframe\">\n",
       "  <thead>\n",
       "    <tr style=\"text-align: right;\">\n",
       "      <th></th>\n",
       "      <th>0</th>\n",
       "    </tr>\n",
       "  </thead>\n",
       "  <tbody>\n",
       "    <tr>\n",
       "      <th>0</th>\n",
       "      <td>0</td>\n",
       "    </tr>\n",
       "  </tbody>\n",
       "</table>\n",
       "</div>"
      ],
      "text/plain": [
       "   0\n",
       "0  0"
      ]
     },
     "execution_count": 33,
     "metadata": {},
     "output_type": "execute_result"
    }
   ],
   "source": [
    "y_test[0:1]"
   ]
  },
  {
   "cell_type": "code",
   "execution_count": 40,
   "id": "f02b965e",
   "metadata": {},
   "outputs": [],
   "source": [
    "r = load('vectorizer.model') "
   ]
  },
  {
   "cell_type": "code",
   "execution_count": null,
   "id": "d79ff33f",
   "metadata": {},
   "outputs": [],
   "source": []
  }
 ],
 "metadata": {
  "kernelspec": {
   "display_name": "Python 3 (ipykernel)",
   "language": "python",
   "name": "python3"
  },
  "language_info": {
   "codemirror_mode": {
    "name": "ipython",
    "version": 3
   },
   "file_extension": ".py",
   "mimetype": "text/x-python",
   "name": "python",
   "nbconvert_exporter": "python",
   "pygments_lexer": "ipython3",
   "version": "3.8.8"
  }
 },
 "nbformat": 4,
 "nbformat_minor": 5
}
